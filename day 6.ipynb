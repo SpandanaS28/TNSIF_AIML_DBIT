{
 "cells": [
  {
   "cell_type": "code",
   "execution_count": 7,
   "id": "cb36be4e-70f3-4c47-a563-dfe1634f0eee",
   "metadata": {},
   "outputs": [
    {
     "name": "stdout",
     "output_type": "stream",
     "text": [
      "[ 2  4  6  8 10]\n",
      "[ 2  4  6  8 10]\n",
      "[[ 0  1  2  3]\n",
      " [ 4  5  6  7]\n",
      " [ 8  9 10 11]]\n",
      "[[19 22]\n",
      " [43 50]]\n",
      "Mean: 0.026022215625553794,std: 1.0008348912507332\n"
     ]
    }
   ],
   "source": [
    "import numpy as np\n",
    "#creating arrays\n",
    "arr1=np.array([1,2,3,4,5]) #1D array\n",
    "arr2=np.array([[1,2,3],[4,5,6]]) #2D array\n",
    "\n",
    "#Arry operations(vectorization)\n",
    "print(arr1*2) #Multiply each element by 2\n",
    "print(arr1+arr1) #Add arrays element-wise\n",
    "\n",
    "#Reshaping\n",
    "arr3=np.arange(12).reshape(3,4) #Create 3x4 array from 0-11\n",
    "print(arr3)\n",
    "\n",
    "#Matrix operations\n",
    "matrix1=np.array([[1,2],[3,4]])\n",
    "matrix2=np.array([[5,6],[7,8]])\n",
    "print(np.dot(matrix1,matrix2)) #matrix multiplication\n",
    "\n",
    "#Statistical operations\n",
    "data=np.random.normal(0,1,1000)\n",
    "print(f\"Mean: {data.mean()},std: {data.std()}\")"
   ]
  },
  {
   "cell_type": "code",
   "execution_count": 6,
   "id": "87d97511-0f82-4e11-8a12-ec4fc9d2b531",
   "metadata": {},
   "outputs": [
    {
     "name": "stdout",
     "output_type": "stream",
     "text": [
      "[ 2  4  6  8 10]\n",
      "[ 2  4  6  8 10]\n",
      "[[ 0  1  2  3]\n",
      " [ 4  5  6  7]\n",
      " [ 8  9 10 11]]\n",
      "[[19 22]\n",
      " [43 50]]\n",
      "Mean: 0.031627473113720765,std: 1.0282954469348036\n"
     ]
    }
   ],
   "source": [
    "import numpy as np\n",
    "arr1=np.array([1,2,3,4,5]) \n",
    "arr2=np.array([[1,2,3],[4,5,6]]) \n",
    "print(arr1*2) \n",
    "print(arr1+arr1)\n",
    "arr3=np.arange(12).reshape(3,4) \n",
    "print(arr3)\n",
    "matrix1=np.array([[1,2],[3,4]])\n",
    "matrix2=np.array([[5,6],[7,8]])\n",
    "print(np.dot(matrix1,matrix2)) \n",
    "data=np.random.normal(0,1,1000)\n",
    "print(f\"Mean: {data.mean()},std: {data.std()}\")"
   ]
  },
  {
   "cell_type": "code",
   "execution_count": 13,
   "id": "9ae67f64-5e6c-4979-ba73-1a40a6f3cea5",
   "metadata": {},
   "outputs": [
    {
     "name": "stdout",
     "output_type": "stream",
     "text": [
      "      Name  Age  Salary\n",
      "0    Alice   25   50000\n",
      "1      Bob   30   60000\n",
      "2  Charlie   35   70000\n",
      "3    David   40   80000\n",
      "    Name  Age  Salary\n",
      "0  Alice   25   50000\n",
      "1    Bob   30   60000\n",
      "             Age        Salary\n",
      "count   4.000000      4.000000\n",
      "mean   32.500000  65000.000000\n",
      "std     6.454972  12909.944487\n",
      "min    25.000000  50000.000000\n",
      "25%    28.750000  57500.000000\n",
      "50%    32.500000  65000.000000\n",
      "75%    36.250000  72500.000000\n",
      "max    40.000000  80000.000000\n",
      "32.5\n",
      "      Name  Age  Salary\n",
      "2  Charlie   35   70000\n",
      "3    David   40   80000\n",
      "      Name  Salary\n",
      "1      Bob   60000\n",
      "2  Charlie   70000\n",
      "     A    B\n",
      "0  1.0  5.0\n",
      "1  2.0  0.0\n",
      "2  0.0  0.0\n",
      "3  4.0  8.0\n",
      "     A    B\n",
      "0  1.0  5.0\n",
      "3  4.0  8.0\n",
      "             Age   Salary\n",
      "Department               \n",
      "HR          32.5  65000.0\n",
      "Tech        32.5  65000.0\n",
      "      Name  Age  Salary Department   Bonus\n",
      "0    Alice   25   50000         HR  2000.0\n",
      "1      Bob   30   60000       Tech  1500.0\n",
      "2  Charlie   35   70000       Tech     NaN\n",
      "3    David   40   80000         HR     NaN\n",
      "                value\n",
      "date                 \n",
      "2023-01-01  69.000000\n",
      "2023-01-04  21.333333\n",
      "2023-01-07  59.333333\n",
      "2023-01-10  21.000000\n"
     ]
    }
   ],
   "source": [
    "import pandas as pd\n",
    "import numpy as np\n",
    "\n",
    "# Creating dataFrames\n",
    "data = {\n",
    "    'Name': ['Alice', 'Bob', 'Charlie', 'David'],\n",
    "    'Age': [25, 30, 35, 40],\n",
    "    'Salary': [50000, 60000, 70000, 80000]\n",
    "}\n",
    "df = pd.DataFrame(data)\n",
    "print(df)\n",
    "\n",
    "# Reading from CSV (commented out)\n",
    "# df = pd.read_csv('data.csv')\n",
    "\n",
    "# Basic operations\n",
    "print(df.head(2))  # First 2 rows\n",
    "print(df.describe())  # Summary statistics\n",
    "print(df['Age'].mean())  # Average age\n",
    "\n",
    "# Data Selection\n",
    "print(df[df['Age'] > 30])  # Filtering\n",
    "print(df.loc[1:2, ['Name', 'Salary']])  # Selection by label\n",
    "\n",
    "# Handling missing data\n",
    "df_with_nan = pd.DataFrame({\n",
    "    'A': [1, 2, np.nan, 4],\n",
    "    'B': [5, np.nan, np.nan, 8]\n",
    "})\n",
    "print(df_with_nan.fillna(value=0))  # Replace NaN with 0\n",
    "print(df_with_nan.dropna())  # Drop rows with NaN\n",
    "\n",
    "# Grouping and aggregation\n",
    "df['Department'] = ['HR', 'Tech', 'Tech', 'HR']\n",
    "# Fix: Explicitly select numeric columns for aggregation\n",
    "print(df.groupby('Department')[['Age', 'Salary']].mean())  # Average by department\n",
    "\n",
    "# Merging DataFrames (like SQL joins)\n",
    "df2 = pd.DataFrame({\n",
    "    'Name': ['Alice', 'Bob', 'Eve'],\n",
    "    'Bonus': [2000, 1500, 3000]\n",
    "})\n",
    "print(pd.merge(df, df2, on='Name', how='left'))  # Left join\n",
    "\n",
    "# Time series functionality\n",
    "date_rng = pd.date_range(start='1/1/2023', end='1/10/2023', freq='D')\n",
    "ts = pd.DataFrame(date_rng, columns=['date'])\n",
    "ts['value'] = np.random.randint(0, 100, size=(len(date_rng)))\n",
    "ts.set_index('date', inplace=True)\n",
    "print(ts.resample('3D').mean())  # Resample to 3-day periods\n"
   ]
  },
  {
   "cell_type": "code",
   "execution_count": null,
   "id": "dfd7277d-099b-4e69-bab7-373ffb231cd2",
   "metadata": {},
   "outputs": [],
   "source": []
  }
 ],
 "metadata": {
  "kernelspec": {
   "display_name": "Python 3 (ipykernel)",
   "language": "python",
   "name": "python3"
  },
  "language_info": {
   "codemirror_mode": {
    "name": "ipython",
    "version": 3
   },
   "file_extension": ".py",
   "mimetype": "text/x-python",
   "name": "python",
   "nbconvert_exporter": "python",
   "pygments_lexer": "ipython3",
   "version": "3.13.2"
  }
 },
 "nbformat": 4,
 "nbformat_minor": 5
}
