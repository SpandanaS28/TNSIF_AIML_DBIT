{
 "cells": [
  {
   "cell_type": "code",
   "execution_count": 2,
   "id": "cb8562c7-9f4c-4998-b9d5-14e1206f41a4",
   "metadata": {},
   "outputs": [
    {
     "name": "stdout",
     "output_type": "stream",
     "text": [
      "Enter 10 numbers:\n"
     ]
    },
    {
     "name": "stdin",
     "output_type": "stream",
     "text": [
      "Enter number 1:  1\n",
      "Enter number 2:  2\n",
      "Enter number 3:  3\n",
      "Enter number 4:  4\n",
      "Enter number 5:  5\n",
      "Enter number 6:  6\n",
      "Enter number 7:  7\n",
      "Enter number 8:  8\n",
      "Enter number 9:  9\n",
      "Enter number 10:  10\n"
     ]
    },
    {
     "name": "stdout",
     "output_type": "stream",
     "text": [
      "\n",
      "Removed 3rd element: 3\n",
      "\n",
      "Final list after removing 3rd element and all odd numbers:\n",
      "[2, 4, 6, 8, 10]\n"
     ]
    }
   ],
   "source": [
    "numbers = []\n",
    "print(\"Enter 10 numbers:\")\n",
    "for i in range(10):\n",
    "    num = int(input(f\"Enter number {i+1}: \"))\n",
    "    numbers.append(num)\n",
    "if len(numbers) >= 3:\n",
    "    removed_element = numbers.pop(2)\n",
    "    print(f\"\\nRemoved 3rd element: {removed_element}\")\n",
    "numbers = [num for num in numbers if num % 2 == 0]\n",
    "print(\"\\nFinal list after removing 3rd element and all odd numbers:\")\n",
    "print(numbers)\n"
   ]
  },
  {
   "cell_type": "code",
   "execution_count": null,
   "id": "f113c76c-36f6-44b0-9164-a67640807bb9",
   "metadata": {},
   "outputs": [],
   "source": []
  }
 ],
 "metadata": {
  "kernelspec": {
   "display_name": "Python 3 (ipykernel)",
   "language": "python",
   "name": "python3"
  },
  "language_info": {
   "codemirror_mode": {
    "name": "ipython",
    "version": 3
   },
   "file_extension": ".py",
   "mimetype": "text/x-python",
   "name": "python",
   "nbconvert_exporter": "python",
   "pygments_lexer": "ipython3",
   "version": "3.13.2"
  }
 },
 "nbformat": 4,
 "nbformat_minor": 5
}
