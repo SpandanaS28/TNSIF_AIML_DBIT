{
 "cells": [
  {
   "cell_type": "code",
   "execution_count": 1,
   "id": "5a35f913-0ca5-4570-a6e9-e94b3c091d31",
   "metadata": {},
   "outputs": [
    {
     "name": "stdin",
     "output_type": "stream",
     "text": [
      "Enter a number:  288\n"
     ]
    },
    {
     "name": "stdout",
     "output_type": "stream",
     "text": [
      "Current sum: 288\n"
     ]
    },
    {
     "name": "stdin",
     "output_type": "stream",
     "text": [
      "Enter a number:  301\n"
     ]
    },
    {
     "name": "stdout",
     "output_type": "stream",
     "text": [
      "Sum exceeded 300! Stopping...\n"
     ]
    }
   ],
   "source": [
    "total = 0\n",
    "\n",
    "while True:\n",
    "    num = int(input(\"Enter a number: \"))\n",
    "    total += num\n",
    "    \n",
    "    if total > 300:\n",
    "        print(\"Sum exceeded 300! Stopping...\")\n",
    "        break\n",
    "        \n",
    "    print(f\"Current sum: {total}\")"
   ]
  },
  {
   "cell_type": "code",
   "execution_count": 2,
   "id": "231dba2d-c12c-4ba9-89c0-61410ba14928",
   "metadata": {},
   "outputs": [
    {
     "name": "stdin",
     "output_type": "stream",
     "text": [
      "enter name spandana\n"
     ]
    },
    {
     "name": "stdout",
     "output_type": "stream",
     "text": [
      "s\n",
      "p\n",
      "n\n",
      "d\n",
      "n\n"
     ]
    }
   ],
   "source": [
    "n=input('enter name')\n",
    "for i in n:\n",
    "    if i=='a' or i=='e' or i=='i' or i=='o' or i=='u':\n",
    "        continue\n",
    "    else:\n",
    "        print(i)"
   ]
  },
  {
   "cell_type": "code",
   "execution_count": 4,
   "id": "3ad6da2b-4c63-4021-9062-61a2c72e8e74",
   "metadata": {},
   "outputs": [
    {
     "name": "stdin",
     "output_type": "stream",
     "text": [
      "Enter a string:  hi\n",
      "Enter a string:  hello\n",
      "Enter a string:  Bon\n"
     ]
    },
    {
     "name": "stdout",
     "output_type": "stream",
     "text": [
      "Voyage\n"
     ]
    }
   ],
   "source": [
    "while True:\n",
    "    user_input = input(\"Enter a string: \")\n",
    "    if user_input == \"Bon\":\n",
    "        print(\"Voyage\")\n",
    "        break"
   ]
  },
  {
   "cell_type": "code",
   "execution_count": 5,
   "id": "a12ceff5-cc31-46b8-a6c9-5b33a418828e",
   "metadata": {},
   "outputs": [
    {
     "name": "stdin",
     "output_type": "stream",
     "text": [
      "Enter your door number and street:  #234\n"
     ]
    },
    {
     "name": "stdout",
     "output_type": "stream",
     "text": [
      "Numbers present in the string: 234\n"
     ]
    }
   ],
   "source": [
    "address = input(\"Enter your door number and street: \")\n",
    "numbers = ''.join([char for char in address if char.isdigit()])\n",
    "if numbers:\n",
    "    print(\"Numbers present in the string:\", numbers)\n",
    "else:\n",
    "    print(\"No numbers found in the input.\")\n"
   ]
  },
  {
   "cell_type": "code",
   "execution_count": 6,
   "id": "fed78eaf-8761-401f-a4df-e32c56119764",
   "metadata": {},
   "outputs": [
    {
     "name": "stdin",
     "output_type": "stream",
     "text": [
      "Enter your door number and street:  #342r\n"
     ]
    },
    {
     "name": "stdout",
     "output_type": "stream",
     "text": [
      "Numbers present in the string: 342\n"
     ]
    }
   ],
   "source": [
    "address = input(\"Enter your door number and street: \")\n",
    "numbers = \"\"\n",
    "for ch in address:\n",
    "    if ch >= '0' and ch <= '9':\n",
    "        numbers = numbers + ch\n",
    "if numbers != \"\":\n",
    "    print(\"Numbers present in the string:\", numbers)\n",
    "else:\n",
    "    print(\"No numbers found in the input.\")\n"
   ]
  },
  {
   "cell_type": "code",
   "execution_count": null,
   "id": "9968c5b8-cea5-463a-9799-7b1afc2c3429",
   "metadata": {},
   "outputs": [],
   "source": [
    "user_list = []\n",
    "print(\"Enter 5 elements for the list:\")\n",
    "for i in range(5):\n",
    "    element = input(f\"Element {i+1}: \")\n",
    "    user_list.append(element)\n",
    "name = input(\"Enter your name: \")\n",
    "user_list[2] = name   \n",
    "user_list[4] = name   \n",
    "print(\"Updated List:\", user_list)"
   ]
  },
  {
   "cell_type": "code",
   "execution_count": null,
   "id": "6b43de34-6f3a-4495-815b-648605f55e46",
   "metadata": {},
   "outputs": [],
   "source": [
    "user_list = input(\"Enter elements of the list separated by space: \").split()\n",
    "index = int(input(\"Enter the index where you want to insert: \"))\n",
    "element = input(\"Enter the element to insert: \")\n",
    "if 0 <= index < len(user_list):\n",
    "    user_list.insert(index, element)\n",
    "    print(\"Element inserted at index\", index)\n",
    "else:\n",
    "    print(\"Invalid index! The element will be appended at the end.\")\n",
    "    user_list.append(element)\n",
    "print(\"Updated List:\", user_list)\n"
   ]
  },
  {
   "cell_type": "code",
   "execution_count": null,
   "id": "c98c040f-fda1-464b-a8c5-8dfdbd05605c",
   "metadata": {},
   "outputs": [],
   "source": []
  }
 ],
 "metadata": {
  "kernelspec": {
   "display_name": "Python 3 (ipykernel)",
   "language": "python",
   "name": "python3"
  },
  "language_info": {
   "codemirror_mode": {
    "name": "ipython",
    "version": 3
   },
   "file_extension": ".py",
   "mimetype": "text/x-python",
   "name": "python",
   "nbconvert_exporter": "python",
   "pygments_lexer": "ipython3",
   "version": "3.13.2"
  }
 },
 "nbformat": 4,
 "nbformat_minor": 5
}
