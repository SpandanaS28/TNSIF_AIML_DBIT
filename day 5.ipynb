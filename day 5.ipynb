{
 "cells": [
  {
   "cell_type": "code",
   "execution_count": 1,
   "id": "c9cf933f-5977-4e11-ba3e-625659464494",
   "metadata": {},
   "outputs": [
    {
     "name": "stdout",
     "output_type": "stream",
     "text": [
      "('ram', 1, 1997)\n"
     ]
    }
   ],
   "source": [
    "tup1=('ram',1,1997)\n",
    "print(tup1)"
   ]
  },
  {
   "cell_type": "code",
   "execution_count": 2,
   "id": "95ce3a33-105e-477a-883c-ebac370690cd",
   "metadata": {},
   "outputs": [
    {
     "name": "stdout",
     "output_type": "stream",
     "text": [
      "(3,)\n"
     ]
    }
   ],
   "source": [
    "tup=(3,)\n",
    "print(tup)"
   ]
  },
  {
   "cell_type": "code",
   "execution_count": 3,
   "id": "e4dd2d13-022c-4890-8c1e-2c8f0034400d",
   "metadata": {},
   "outputs": [
    {
     "name": "stdout",
     "output_type": "stream",
     "text": [
      "3\n"
     ]
    }
   ],
   "source": [
    "tup=(3)\n",
    "print(tup)"
   ]
  },
  {
   "cell_type": "code",
   "execution_count": 4,
   "id": "3f221c01-0897-469f-bd98-22aafab1020b",
   "metadata": {},
   "outputs": [
    {
     "name": "stdout",
     "output_type": "stream",
     "text": [
      "<class 'int'>\n"
     ]
    }
   ],
   "source": [
    "tup=(3)\n",
    "print(type(tup))"
   ]
  },
  {
   "cell_type": "code",
   "execution_count": 5,
   "id": "214ce136-5695-4378-98a5-087e85585221",
   "metadata": {},
   "outputs": [
    {
     "name": "stdout",
     "output_type": "stream",
     "text": [
      "<class 'tuple'>\n"
     ]
    }
   ],
   "source": [
    "tup=(3,)\n",
    "print(type(tup))"
   ]
  },
  {
   "cell_type": "code",
   "execution_count": 6,
   "id": "dbc529e5-9c23-4841-a882-8a6a9ef5cc15",
   "metadata": {},
   "outputs": [
    {
     "name": "stdout",
     "output_type": "stream",
     "text": [
      "()\n"
     ]
    }
   ],
   "source": [
    "tup=()\n",
    "print(tup)#tuple cant be have only comma "
   ]
  },
  {
   "cell_type": "code",
   "execution_count": 7,
   "id": "57956f20-9706-496e-8fd8-5da11310f3d9",
   "metadata": {},
   "outputs": [],
   "source": [
    "#tuple will take list into an argument "
   ]
  },
  {
   "cell_type": "code",
   "execution_count": 8,
   "id": "7b33d2cd-06a5-4453-9f29-456cca2bb654",
   "metadata": {},
   "outputs": [
    {
     "name": "stdout",
     "output_type": "stream",
     "text": [
      "(1, 2, 3)\n"
     ]
    }
   ],
   "source": [
    "tup=tuple([1,2,3])\n",
    "print(tup)"
   ]
  },
  {
   "cell_type": "code",
   "execution_count": 9,
   "id": "f4159656-bc60-4ce0-9623-553b93e0729e",
   "metadata": {},
   "outputs": [],
   "source": [
    "#tuple insertion by using add,sub .... "
   ]
  },
  {
   "cell_type": "code",
   "execution_count": 10,
   "id": "0fa9192e-df39-4f85-bfa0-2f36dea0be26",
   "metadata": {},
   "outputs": [
    {
     "name": "stdout",
     "output_type": "stream",
     "text": [
      "(1, 2, 3, 4, 5, 6, 7, 8)\n"
     ]
    }
   ],
   "source": [
    "t=(1,2,3,4)\n",
    "t=t+(5,6,7,8)\n",
    "print(t)\n"
   ]
  },
  {
   "cell_type": "code",
   "execution_count": 11,
   "id": "4c6354b0-4e57-4c00-ac59-d3170fb72c3a",
   "metadata": {},
   "outputs": [
    {
     "name": "stdout",
     "output_type": "stream",
     "text": [
      "(1, 2, 3, 4)\n"
     ]
    }
   ],
   "source": [
    "t=(1,2,3,4)\n",
    "print(t)\n"
   ]
  },
  {
   "cell_type": "code",
   "execution_count": 12,
   "id": "d05209b1-8e2b-4347-9d05-abe752b5598e",
   "metadata": {},
   "outputs": [
    {
     "name": "stdout",
     "output_type": "stream",
     "text": [
      "(1, 2, 3, 4, 5, 6, 7, 8)\n"
     ]
    }
   ],
   "source": [
    "t=(1,2,3,4)\n",
    "t=t+(5,6,7,8,)\n",
    "print(t)\n"
   ]
  },
  {
   "cell_type": "code",
   "execution_count": 13,
   "id": "c64d4586-be48-4061-9cf0-ad5348435ee1",
   "metadata": {},
   "outputs": [
    {
     "name": "stdout",
     "output_type": "stream",
     "text": [
      "(5, 6, 7, 8)\n"
     ]
    }
   ],
   "source": [
    "t=(1,2,3,4)\n",
    "t=(5,6,7,8)\n",
    "print(t)\n"
   ]
  },
  {
   "cell_type": "code",
   "execution_count": 14,
   "id": "2157ad73-5af2-4b76-96fd-27632c851f39",
   "metadata": {},
   "outputs": [
    {
     "name": "stdout",
     "output_type": "stream",
     "text": [
      "(1, 2, 3, 4, 5, 6, 7, 8)\n"
     ]
    }
   ],
   "source": [
    "t=(1,2,3,4)\n",
    "t=t+(5,6,7,8)\n",
    "t+(10,)#doesnt add anything\n",
    "print(t)"
   ]
  },
  {
   "cell_type": "code",
   "execution_count": 15,
   "id": "6dfb70cd-a050-441f-9c3c-93a5fa75efa2",
   "metadata": {},
   "outputs": [
    {
     "name": "stdin",
     "output_type": "stream",
     "text": [
      "Enter the number of employees:  4\n",
      "Enter salary of employee 1:  1000\n",
      "Enter salary of employee 2:  2000\n",
      "Enter salary of employee 3:  3000\n",
      "Enter salary of employee 4:  4000\n"
     ]
    },
    {
     "name": "stdout",
     "output_type": "stream",
     "text": [
      "\n",
      "Minimum Salary: 1000.0\n",
      "Maximum Salary: 4000.0\n"
     ]
    }
   ],
   "source": [
    "n = int(input(\"Enter the number of employees: \"))\n",
    "salaries = []\n",
    "for i in range(n):\n",
    "    salary = float(input(f\"Enter salary of employee {i+1}: \"))\n",
    "    salaries.append(salary)\n",
    "min_salary = min(salaries)\n",
    "max_salary = max(salaries)\n",
    "print(f\"\\nMinimum Salary: {min_salary}\")\n",
    "print(f\"Maximum Salary: {max_salary}\")\n"
   ]
  },
  {
   "cell_type": "code",
   "execution_count": 16,
   "id": "73de5b7c-a07d-4eee-bf27-b06d4cf8c490",
   "metadata": {},
   "outputs": [
    {
     "name": "stdout",
     "output_type": "stream",
     "text": [
      "('PYTHON',)\n",
      "1\n",
      "4\n",
      "(10, 20, 30, 10, 20, 30)\n"
     ]
    }
   ],
   "source": [
    "t=tuple()\n",
    "t=t+('PYTHON',)\n",
    "print(t)\n",
    "print(len(t))\n",
    "t1=(10,20,30)\n",
    "t2=t1+t\n",
    "print(len(t2))\n",
    "t3=t1*2\n",
    "print(t3)"
   ]
  },
  {
   "cell_type": "code",
   "execution_count": 17,
   "id": "79bb46df-0ad8-4f0e-a208-99757118105e",
   "metadata": {},
   "outputs": [
    {
     "name": "stdin",
     "output_type": "stream",
     "text": [
      "Enter the number of employees:  2\n",
      "Enter name of employee 1:  max\n",
      "Enter employee number of max:  c202\n",
      "Enter name of employee 2:  jack\n",
      "Enter employee number of jack:  c303\n"
     ]
    },
    {
     "name": "stdout",
     "output_type": "stream",
     "text": [
      "\n",
      "Employee Details:\n",
      "Name: max, Number: c202\n",
      "Name: jack, Number: c303\n"
     ]
    }
   ],
   "source": [
    "employees = {}\n",
    "n = int(input(\"Enter the number of employees: \"))\n",
    "for i in range(n):\n",
    "    name = input(f\"Enter name of employee {i+1}: \")\n",
    "    number = input(f\"Enter employee number of {name}: \")\n",
    "    employees[name] = number \n",
    "print(\"\\nEmployee Details:\")\n",
    "for name, number in employees.items():\n",
    "    print(f\"Name: {name}, Number: {number}\")"
   ]
  },
  {
   "cell_type": "code",
   "execution_count": null,
   "id": "561b63aa-e406-4f06-9dd4-d285d6666e04",
   "metadata": {},
   "outputs": [],
   "source": []
  }
 ],
 "metadata": {
  "kernelspec": {
   "display_name": "Python 3 (ipykernel)",
   "language": "python",
   "name": "python3"
  },
  "language_info": {
   "codemirror_mode": {
    "name": "ipython",
    "version": 3
   },
   "file_extension": ".py",
   "mimetype": "text/x-python",
   "name": "python",
   "nbconvert_exporter": "python",
   "pygments_lexer": "ipython3",
   "version": "3.13.2"
  }
 },
 "nbformat": 4,
 "nbformat_minor": 5
}
