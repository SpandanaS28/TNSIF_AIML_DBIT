{
 "cells": [
  {
   "cell_type": "code",
   "execution_count": 1,
   "id": "413d2769-93a8-4f41-850d-3d9d2d4bdbe4",
   "metadata": {},
   "outputs": [
    {
     "name": "stdin",
     "output_type": "stream",
     "text": [
      "Enter your PIN:  1234\n"
     ]
    },
    {
     "name": "stdout",
     "output_type": "stream",
     "text": [
      "Access granted.\n",
      "\n",
      "\n",
      "--- ATM Menu ---\n",
      "1. Check Balance\n",
      "2. Deposit\n",
      "3. Withdraw\n",
      "4. Exit\n"
     ]
    },
    {
     "name": "stdin",
     "output_type": "stream",
     "text": [
      "Choose an option (1-4):  1\n"
     ]
    },
    {
     "name": "stdout",
     "output_type": "stream",
     "text": [
      "Your current balance is ₹10000\n",
      "\n",
      "--- ATM Menu ---\n",
      "1. Check Balance\n",
      "2. Deposit\n",
      "3. Withdraw\n",
      "4. Exit\n"
     ]
    },
    {
     "name": "stdin",
     "output_type": "stream",
     "text": [
      "Choose an option (1-4):  2\n",
      "Enter amount to deposit: ₹ 2000\n"
     ]
    },
    {
     "name": "stdout",
     "output_type": "stream",
     "text": [
      "Deposited ₹2000.0. New balance: ₹12000.0\n",
      "\n",
      "--- ATM Menu ---\n",
      "1. Check Balance\n",
      "2. Deposit\n",
      "3. Withdraw\n",
      "4. Exit\n"
     ]
    },
    {
     "name": "stdin",
     "output_type": "stream",
     "text": [
      "Choose an option (1-4):  3\n",
      "Enter amount to withdraw: ₹ 2590\n"
     ]
    },
    {
     "name": "stdout",
     "output_type": "stream",
     "text": [
      "Withdrew ₹2590.0. New balance: ₹9410.0\n",
      "\n",
      "--- ATM Menu ---\n",
      "1. Check Balance\n",
      "2. Deposit\n",
      "3. Withdraw\n",
      "4. Exit\n"
     ]
    },
    {
     "name": "stdin",
     "output_type": "stream",
     "text": [
      "Choose an option (1-4):  4\n"
     ]
    },
    {
     "name": "stdout",
     "output_type": "stream",
     "text": [
      "Thank you for using the ATM.\n"
     ]
    }
   ],
   "source": [
    "correct_pin = \"1234\"\n",
    "balance = 10000  \n",
    "attempts = 0\n",
    "max_attempts = 3\n",
    "\n",
    "while attempts < max_attempts:\n",
    "    entered_pin = input(\"Enter your PIN: \")\n",
    "    if entered_pin == correct_pin:\n",
    "        print(\"Access granted.\\n\")\n",
    "        break\n",
    "    else:\n",
    "        attempts += 1\n",
    "        print(f\"Incorrect PIN. Attempts left: {max_attempts - attempts}\")\n",
    "\n",
    "if attempts == max_attempts:\n",
    "    print(\"Card blocked. Too many incorrect attempts.\")\n",
    "else:\n",
    "    while True:\n",
    "        print(\"\\n--- ATM Menu ---\")\n",
    "        print(\"1. Check Balance\")\n",
    "        print(\"2. Deposit\")\n",
    "        print(\"3. Withdraw\")\n",
    "        print(\"4. Exit\")\n",
    "\n",
    "        choice = input(\"Choose an option (1-4): \")\n",
    "\n",
    "        if choice == \"1\":\n",
    "            print(f\"Your current balance is ₹{balance}\")\n",
    "        elif choice == \"2\":\n",
    "            amount = float(input(\"Enter amount to deposit: ₹\"))\n",
    "            if amount > 0:\n",
    "                balance += amount\n",
    "                print(f\"Deposited ₹{amount}. New balance: ₹{balance}\")\n",
    "            else:\n",
    "                print(\"Invalid amount.\")\n",
    "        elif choice == \"3\":\n",
    "            amount = float(input(\"Enter amount to withdraw: ₹\"))\n",
    "            if 0 < amount <= balance:\n",
    "                balance -= amount\n",
    "                print(f\"Withdrew ₹{amount}. New balance: ₹{balance}\")\n",
    "            else:\n",
    "                print(\"Invalid or insufficient amount.\")\n",
    "        elif choice == \"4\":\n",
    "            print(\"Thank you for using the ATM.\")\n",
    "            break\n",
    "        else:\n",
    "            print(\"Invalid option. Please try again.\")\n"
   ]
  },
  {
   "cell_type": "code",
   "execution_count": null,
   "id": "1396323d-72b8-4fdb-9ee6-519c264a8700",
   "metadata": {},
   "outputs": [],
   "source": []
  }
 ],
 "metadata": {
  "kernelspec": {
   "display_name": "Python 3 (ipykernel)",
   "language": "python",
   "name": "python3"
  },
  "language_info": {
   "codemirror_mode": {
    "name": "ipython",
    "version": 3
   },
   "file_extension": ".py",
   "mimetype": "text/x-python",
   "name": "python",
   "nbconvert_exporter": "python",
   "pygments_lexer": "ipython3",
   "version": "3.13.2"
  }
 },
 "nbformat": 4,
 "nbformat_minor": 5
}
